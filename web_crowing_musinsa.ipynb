{
 "cells": [
  {
   "cell_type": "code",
   "execution_count": 43,
   "metadata": {},
   "outputs": [],
   "source": [
    "from selenium import webdriver\n",
    "from selenium.webdriver.chrome.service import Service\n",
    "from selenium.webdriver.common.by import By\n",
    "from webdriver_manager.chrome import ChromeDriverManager\n",
    "import requests\n",
    "import os\n",
    "import time\n",
    "from datetime import datetime\n",
    "\n",
    "# 이미지 저장 폴더 생성\n",
    "if not os.path.exists('musinsa_images'):\n",
    "    os.makedirs('musinsa_images')\n",
    "\n",
    "# Chrome 드라이버 설정\n",
    "driver = webdriver.Chrome(service=Service(ChromeDriverManager().install()))\n",
    "\n",
    "# 웹 페이지 열기\n",
    "url = 'https://www.musinsa.com/category/100?gf=A'\n",
    "driver.get(url)\n",
    "\n",
    "# 페이지 끝까지 스크롤 (100번)\n",
    "scroll_count = 0\n",
    "while scroll_count < 100:\n",
    "    driver.execute_script(\"window.scrollTo(0, document.body.scrollHeight);\")\n",
    "    time.sleep(1)  # 페이지 로딩 대기\n",
    "\n",
    "    # 이미지 요소 찾기\n",
    "    images = driver.find_elements(By.CSS_SELECTOR, 'img[src*=\"goods\"]')\n",
    "\n",
    "    # 이미지 다운로드\n",
    "    for img in images:\n",
    "        img_url = img.get_attribute('src')\n",
    "        timestamp = datetime.now().strftime('%Y%m%d%H%M%S%f')\n",
    "        img_data = requests.get(img_url).content\n",
    "        with open(f'musinsa_images/Dress_skirt_{timestamp}.jpg', 'wb') as handler:\n",
    "            handler.write(img_data)\n",
    "\n",
    "    scroll_count += 1\n",
    "\n",
    "# 브라우저 종료\n",
    "driver.quit()"
   ]
  },
  {
   "cell_type": "code",
   "execution_count": 49,
   "metadata": {},
   "outputs": [
    {
     "name": "stdout",
     "output_type": "stream",
     "text": [
      "이미지 파일명이 성공적으로 변경되었습니다.\n"
     ]
    }
   ],
   "source": [
    "import os\n",
    "\n",
    "# 이미지 파일명을 변경하는 함수\n",
    "index = 0\n",
    "\n",
    "def rename_images(directory):\n",
    "    for index, filename in enumerate(os.listdir(directory), start=1):\n",
    "        if filename.endswith(\".jpg\"):\n",
    "            new_name = f\"dress_skirt_{index}.jpg\"\n",
    "            os.rename(os.path.join(directory, filename), os.path.join(directory, new_name))\n",
    "        index += 1\n",
    "\n",
    "# 이미지가 있는 디렉토리 경로를 지정하세요\n",
    "directory = \"C:/Users/USER/Desktop/MSAI/1차 프로젝트/musinsa_images\"\n",
    "\n",
    "# 이미지 파일명을 변경합니다\n",
    "rename_images(directory)\n",
    "\n",
    "print(\"이미지 파일명이 성공적으로 변경되었습니다.\")"
   ]
  },
  {
   "cell_type": "code",
   "execution_count": null,
   "metadata": {},
   "outputs": [],
   "source": []
  }
 ],
 "metadata": {
  "kernelspec": {
   "display_name": "Python 3",
   "language": "python",
   "name": "python3"
  },
  "language_info": {
   "codemirror_mode": {
    "name": "ipython",
    "version": 3
   },
   "file_extension": ".py",
   "mimetype": "text/x-python",
   "name": "python",
   "nbconvert_exporter": "python",
   "pygments_lexer": "ipython3",
   "version": "3.13.1"
  }
 },
 "nbformat": 4,
 "nbformat_minor": 2
}
