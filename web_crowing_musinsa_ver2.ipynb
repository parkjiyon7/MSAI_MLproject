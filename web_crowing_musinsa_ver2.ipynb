{
 "cells": [
  {
   "cell_type": "code",
   "execution_count": 1,
   "metadata": {},
   "outputs": [
    {
     "name": "stdout",
     "output_type": "stream",
     "text": [
      "Requirement already satisfied: webdriver_manager in c:\\users\\user\\appdata\\local\\programs\\python\\python313\\lib\\site-packages (4.0.2)\n",
      "Requirement already satisfied: requests in c:\\users\\user\\appdata\\local\\programs\\python\\python313\\lib\\site-packages (from webdriver_manager) (2.32.3)\n",
      "Requirement already satisfied: python-dotenv in c:\\users\\user\\appdata\\local\\programs\\python\\python313\\lib\\site-packages (from webdriver_manager) (1.0.1)\n",
      "Requirement already satisfied: packaging in c:\\users\\user\\appdata\\roaming\\python\\python313\\site-packages (from webdriver_manager) (24.2)\n",
      "Requirement already satisfied: charset-normalizer<4,>=2 in c:\\users\\user\\appdata\\local\\programs\\python\\python313\\lib\\site-packages (from requests->webdriver_manager) (3.4.1)\n",
      "Requirement already satisfied: idna<4,>=2.5 in c:\\users\\user\\appdata\\local\\programs\\python\\python313\\lib\\site-packages (from requests->webdriver_manager) (3.10)\n",
      "Requirement already satisfied: urllib3<3,>=1.21.1 in c:\\users\\user\\appdata\\local\\programs\\python\\python313\\lib\\site-packages (from requests->webdriver_manager) (2.3.0)\n",
      "Requirement already satisfied: certifi>=2017.4.17 in c:\\users\\user\\appdata\\local\\programs\\python\\python313\\lib\\site-packages (from requests->webdriver_manager) (2024.12.14)\n",
      "Note: you may need to restart the kernel to use updated packages.\n"
     ]
    },
    {
     "name": "stderr",
     "output_type": "stream",
     "text": [
      "\n",
      "[notice] A new release of pip is available: 24.3.1 -> 25.0.1\n",
      "[notice] To update, run: python.exe -m pip install --upgrade pip\n"
     ]
    }
   ],
   "source": [
    "pip install webdriver_manager"
   ]
  },
  {
   "cell_type": "code",
   "execution_count": 20,
   "metadata": {},
   "outputs": [
    {
     "name": "stdout",
     "output_type": "stream",
     "text": [
      "상품 정보가 musinsa_product_info.xlsx 파일로 저장되었습니다.\n"
     ]
    }
   ],
   "source": [
    "from selenium import webdriver\n",
    "from selenium.webdriver.chrome.service import Service\n",
    "from selenium.webdriver.common.by import By\n",
    "from webdriver_manager.chrome import ChromeDriverManager\n",
    "import requests\n",
    "import os\n",
    "import time\n",
    "from datetime import datetime\n",
    "import pandas as pd\n",
    "\n",
    "# 이미지 저장 폴더 생성\n",
    "if not os.path.exists('musinsa_images_dress_skirt'):\n",
    "    os.makedirs('musinsa_images_dress_skirt')\n",
    "\n",
    "# Chrome 드라이버 설정\n",
    "driver = webdriver.Chrome(service=Service(ChromeDriverManager().install()))\n",
    "\n",
    "# 웹 페이지 열기\n",
    "url = 'https://www.musinsa.com/category/100?gf=A'\n",
    "driver.get(url)\n",
    "\n",
    "# 상품 정보 리스트 초기화\n",
    "product_info_list = []\n",
    "\n",
    "# 페이지 끝까지 스크롤 (2번)\n",
    "scroll_count = 0\n",
    "while scroll_count < 2:\n",
    "    driver.execute_script(\"window.scrollTo(0, document.body.scrollHeight);\")\n",
    "    time.sleep(1)  # 페이지 로딩 대기\n",
    "\n",
    "    # 상품 요소 찾기\n",
    "    products = driver.find_elements(By.CSS_SELECTOR, 'div.sc-fUnNpA')\n",
    "\n",
    "    # 상품 정보 추출 및 이미지 다운로드\n",
    "    for product in products:\n",
    "        product_brand = product.find_element(By.CSS_SELECTOR, 'span.laXDWb').text\n",
    "        product_name = product.find_element(By.CSS_SELECTOR, 'span.eEPdZZ').text\n",
    "        product_price = product.find_element(By.CSS_SELECTOR, 'a').get_attribute('data-price')\n",
    "        product_link = product.find_element(By.CSS_SELECTOR, 'a').get_attribute('href')\n",
    "        img_url = product.find_element(By.CSS_SELECTOR, 'img[src*=\"goods\"]').get_attribute('src')\n",
    "        \n",
    "        # 이미지 다운로드\n",
    "        timestamp = datetime.now().strftime('%Y%m%d%H%M%S%f')\n",
    "        img_data = requests.get(img_url).content\n",
    "        with open(f'musinsa_images_dress_skirt/Dress_skirt_{timestamp}.jpg', 'wb') as handler:\n",
    "            handler.write(img_data)\n",
    "        \n",
    "        # 상품 정보 리스트에 추가\n",
    "        product_info_list.append({\n",
    "            '브랜드': product_brand,\n",
    "            '상품명': product_name,\n",
    "            '가격': product_price,\n",
    "            '제품 링크': product_link,\n",
    "            '이미지 파일명': f'Dress_skirt_{timestamp}.jpg'\n",
    "        })\n",
    "\n",
    "    scroll_count += 1\n",
    "\n",
    "# 브라우저 종료\n",
    "driver.quit()\n",
    "\n",
    "# 상품 정보를 엑셀 파일로 저장\n",
    "df = pd.DataFrame(product_info_list)\n",
    "df.to_excel('musinsa_product_info.xlsx', index=False)\n",
    "\n",
    "print(\"상품 정보가 musinsa_product_info.xlsx 파일로 저장되었습니다.\")"
   ]
  },
  {
   "cell_type": "code",
   "execution_count": null,
   "metadata": {},
   "outputs": [],
   "source": []
  }
 ],
 "metadata": {
  "kernelspec": {
   "display_name": "Python 3",
   "language": "python",
   "name": "python3"
  },
  "language_info": {
   "codemirror_mode": {
    "name": "ipython",
    "version": 3
   },
   "file_extension": ".py",
   "mimetype": "text/x-python",
   "name": "python",
   "nbconvert_exporter": "python",
   "pygments_lexer": "ipython3",
   "version": "3.13.1"
  }
 },
 "nbformat": 4,
 "nbformat_minor": 2
}
